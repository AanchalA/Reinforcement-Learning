{
  "nbformat": 4,
  "nbformat_minor": 0,
  "metadata": {
    "colab": {
      "provenance": [],
      "authorship_tag": "ABX9TyMpcggXvelnAFlQKRrd9rjn",
      "include_colab_link": true
    },
    "kernelspec": {
      "name": "python3",
      "display_name": "Python 3"
    },
    "language_info": {
      "name": "python"
    }
  },
  "cells": [
    {
      "cell_type": "markdown",
      "metadata": {
        "id": "view-in-github",
        "colab_type": "text"
      },
      "source": [
        "<a href=\"https://colab.research.google.com/github/AanchalA/Reinforcement-Learning/blob/main/OpenAI_Gym_and_Python_for_Q_learning_Frozen_Lake.ipynb\" target=\"_parent\"><img src=\"https://colab.research.google.com/assets/colab-badge.svg\" alt=\"Open In Colab\"/></a>"
      ]
    },
    {
      "cell_type": "markdown",
      "source": [
        "- https://www.youtube.com/watch?v=QK_PP_2KgGE&list=PLZbbT5o_s2xoWNVdDudn51XM8lOuZ_Njv&index=8&ab_channel=deeplizard\n",
        "\n",
        "- https://deeplizard.com/learn/video/QK_PP_2KgGE"
      ],
      "metadata": {
        "id": "ylED3UCNRuAB"
      }
    },
    {
      "cell_type": "code",
      "source": [
        "! pip install gym >> /dev/null"
      ],
      "metadata": {
        "id": "O_-E4wlVRtF4"
      },
      "execution_count": null,
      "outputs": []
    },
    {
      "cell_type": "code",
      "execution_count": null,
      "metadata": {
        "id": "CfTvzRI6RnUK"
      },
      "outputs": [],
      "source": [
        "import gym\n",
        "import time\n",
        "import random\n",
        "import numpy as np\n",
        "from IPython.display import clear_output"
      ]
    },
    {
      "cell_type": "code",
      "source": [
        "# Creating The Environment\n",
        "env = gym.make('FrozenLake-v1', render_mode='ansi', new_step_api=True)"
      ],
      "metadata": {
        "id": "zbeX-I93Txtc",
        "colab": {
          "base_uri": "https://localhost:8080/"
        },
        "outputId": "f2b2c0b7-bd23-484a-bac6-e58cc0eef6fc"
      },
      "execution_count": null,
      "outputs": [
        {
          "output_type": "stream",
          "name": "stderr",
          "text": [
            "/usr/local/lib/python3.10/dist-packages/ipykernel/ipkernel.py:283: DeprecationWarning: `should_run_async` will not call `transform_cell` automatically in the future. Please pass the result to `transformed_cell` argument and any exception that happen during thetransform in `preprocessing_exc_tuple` in IPython 7.17 and above.\n",
            "  and should_run_async(code)\n"
          ]
        }
      ]
    },
    {
      "cell_type": "code",
      "source": [
        "# Creating The Q-Table\n",
        "action_space_size = env.action_space.n\n",
        "state_space_size = env.observation_space.n\n",
        "\n",
        "q_table = np.zeros((state_space_size, action_space_size))\n",
        "print(q_table)"
      ],
      "metadata": {
        "colab": {
          "base_uri": "https://localhost:8080/"
        },
        "id": "8H9lQ9KuT1Cr",
        "outputId": "6d971611-35a4-43b0-e759-7c85455e6f81"
      },
      "execution_count": null,
      "outputs": [
        {
          "output_type": "stream",
          "name": "stdout",
          "text": [
            "[[0. 0. 0. 0.]\n",
            " [0. 0. 0. 0.]\n",
            " [0. 0. 0. 0.]\n",
            " [0. 0. 0. 0.]\n",
            " [0. 0. 0. 0.]\n",
            " [0. 0. 0. 0.]\n",
            " [0. 0. 0. 0.]\n",
            " [0. 0. 0. 0.]\n",
            " [0. 0. 0. 0.]\n",
            " [0. 0. 0. 0.]\n",
            " [0. 0. 0. 0.]\n",
            " [0. 0. 0. 0.]\n",
            " [0. 0. 0. 0.]\n",
            " [0. 0. 0. 0.]\n",
            " [0. 0. 0. 0.]\n",
            " [0. 0. 0. 0.]]\n"
          ]
        }
      ]
    },
    {
      "cell_type": "code",
      "source": [
        "# Initializing Q-Learning Parameters\n",
        "num_episodes = 10000\n",
        "max_steps_per_episode = 100\n",
        "\n",
        "learning_rate = 0.1\n",
        "discount_rate = 0.99\n",
        "\n",
        "exploration_rate = 1\n",
        "max_exploration_rate = 1\n",
        "min_exploration_rate = 0.01\n",
        "exploration_decay_rate = 0.001"
      ],
      "metadata": {
        "id": "wbry85pwT3oU"
      },
      "execution_count": null,
      "outputs": []
    },
    {
      "cell_type": "code",
      "source": [
        "rewards_all_episodes = list()\n",
        "\n",
        "for episode in range(num_episodes):\n",
        "    state = env.reset()\n",
        "    done = False\n",
        "    rewards_current_episode = 0\n",
        "\n",
        "    for step in range(max_steps_per_episode):\n",
        "\n",
        "        # Exploration-exploitation trade-off\n",
        "        exploration_rate_threshold = random.uniform(0, 1)\n",
        "        if exploration_rate_threshold > exploration_rate:\n",
        "            action = np.argmax(q_table[state,:])\n",
        "        else:\n",
        "            action = env.action_space.sample()\n",
        "\n",
        "        # Taking Action\n",
        "        new_state, reward, done, truncated, info = env.step(action)\n",
        "\n",
        "        # Update The Q-Value\n",
        "        # Update Q-table for Q(s,a)\n",
        "        q_table[state, action] = q_table[state, action] * (1 - learning_rate) + \\\n",
        "            learning_rate * (reward + discount_rate * np.max(q_table[new_state, :]))\n",
        "\n",
        "        # Transition To The Next State\n",
        "        state = new_state\n",
        "        rewards_current_episode += reward\n",
        "\n",
        "        if done == True:\n",
        "            break\n",
        "\n",
        "    # Exploration Rate Decay\n",
        "    exploration_rate = min_exploration_rate + (max_exploration_rate - min_exploration_rate) * np.exp(-exploration_decay_rate*episode)\n",
        "\n",
        "    rewards_all_episodes.append(rewards_current_episode)"
      ],
      "metadata": {
        "id": "a2WGFFODUZXx"
      },
      "execution_count": null,
      "outputs": []
    },
    {
      "cell_type": "code",
      "source": [
        "# After All Episodes Complete Calculate and print the average reward per thousand episodes\n",
        "rewards_per_thousand_episodes = np.split(np.array(rewards_all_episodes),num_episodes/1000)\n",
        "count = 1000\n",
        "\n",
        "print(\"********Average reward per thousand episodes********\\n\")\n",
        "for r in rewards_per_thousand_episodes:\n",
        "    print(count, \": \", str(sum(r/1000)))\n",
        "    count += 1000"
      ],
      "metadata": {
        "colab": {
          "base_uri": "https://localhost:8080/"
        },
        "id": "iQVkQQdRYzp1",
        "outputId": "7f7979e5-550f-4252-d54f-a4fc599cb82a"
      },
      "execution_count": null,
      "outputs": [
        {
          "output_type": "stream",
          "name": "stdout",
          "text": [
            "********Average reward per thousand episodes********\n",
            "\n",
            "1000 :  0.03000000000000002\n",
            "2000 :  0.23000000000000018\n",
            "3000 :  0.4130000000000003\n",
            "4000 :  0.5630000000000004\n",
            "5000 :  0.6330000000000005\n",
            "6000 :  0.6770000000000005\n",
            "7000 :  0.6950000000000005\n",
            "8000 :  0.6480000000000005\n",
            "9000 :  0.6780000000000005\n",
            "10000 :  0.6850000000000005\n"
          ]
        }
      ]
    },
    {
      "cell_type": "code",
      "source": [
        "# Interpreting The Training Results - Print updated Q-table\n",
        "print(\"\\n\\n********Q-table********\\n\")\n",
        "print(q_table)"
      ],
      "metadata": {
        "colab": {
          "base_uri": "https://localhost:8080/"
        },
        "id": "yEFgLoJPW3pU",
        "outputId": "da4a688f-211c-4ff7-cdd7-d89d0af49e2f"
      },
      "execution_count": null,
      "outputs": [
        {
          "output_type": "stream",
          "name": "stdout",
          "text": [
            "\n",
            "\n",
            "********Q-table********\n",
            "\n",
            "[[0.54606984 0.49480354 0.48875256 0.50061903]\n",
            " [0.30718494 0.32251736 0.24413677 0.48995063]\n",
            " [0.42629731 0.39050749 0.41578776 0.45999204]\n",
            " [0.24192344 0.31013562 0.22454492 0.42868262]\n",
            " [0.564812   0.45661542 0.40341337 0.35005812]\n",
            " [0.         0.         0.         0.        ]\n",
            " [0.17466563 0.21747065 0.26263505 0.1586251 ]\n",
            " [0.         0.         0.         0.        ]\n",
            " [0.2607091  0.40455796 0.37577634 0.59921293]\n",
            " [0.4092045  0.67794198 0.44569473 0.35004906]\n",
            " [0.64103694 0.33665908 0.37982628 0.37895398]\n",
            " [0.         0.         0.         0.        ]\n",
            " [0.         0.         0.         0.        ]\n",
            " [0.50962242 0.41521012 0.79562639 0.42266933]\n",
            " [0.71979896 0.92521661 0.76188135 0.71285839]\n",
            " [0.         0.         0.         0.        ]]\n"
          ]
        }
      ]
    },
    {
      "cell_type": "code",
      "source": [
        "# The Code To Watch The Agent Play The Game\n",
        "# Watch our agent play Frozen Lake by playing the best action\n",
        "# from each state according to the Q-table\n",
        "\n",
        "for episode in range(3):\n",
        "    # initialize new episode params\n",
        "    state = env.reset()\n",
        "    done = False\n",
        "    print(\"***** EPISODE \", episode + 1, \" *****\\n\\n\\n\\n\")\n",
        "    time.sleep(1)\n",
        "\n",
        "    for step in range(max_steps_per_episode):\n",
        "        # Show current state of environment on screen\n",
        "        # Choose action with highest Q-value for current state\n",
        "        # Take new action\n",
        "        clear_output(wait=True)\n",
        "        print(env.render())\n",
        "        time.sleep(0.3)\n",
        "\n",
        "        action = np.argmax(q_table[state,:])\n",
        "        new_state, reward, done, truncated, info = env.step(action)\n",
        "\n",
        "        if done:\n",
        "            clear_output(wait=True)\n",
        "            print(env.render())\n",
        "\n",
        "            if reward == 1:\n",
        "                print(\"**** You reached the goal! ****\")\n",
        "                time.sleep(3)\n",
        "\n",
        "            else:\n",
        "                print(\"**** You fell through a hole! ****\")\n",
        "                time.sleep(3)\n",
        "                clear_output(wait=True)\n",
        "\n",
        "            break\n",
        "\n",
        "        # Set new state\n",
        "        state = new_state\n",
        "\n",
        "env.close()"
      ],
      "metadata": {
        "colab": {
          "base_uri": "https://localhost:8080/"
        },
        "id": "Iru4khW1ZB91",
        "outputId": "cda007a7-15aa-4711-d824-2af720481727"
      },
      "execution_count": null,
      "outputs": [
        {
          "output_type": "stream",
          "name": "stdout",
          "text": [
            "['  (Right)\\nSFFF\\nFHF\\x1b[41mH\\x1b[0m\\nFFFH\\nHFFG\\n']\n",
            "**** You fell through a hole! ****\n"
          ]
        }
      ]
    },
    {
      "cell_type": "code",
      "source": [
        "env.render?"
      ],
      "metadata": {
        "id": "MwX-WypzakPv"
      },
      "execution_count": null,
      "outputs": []
    }
  ]
}